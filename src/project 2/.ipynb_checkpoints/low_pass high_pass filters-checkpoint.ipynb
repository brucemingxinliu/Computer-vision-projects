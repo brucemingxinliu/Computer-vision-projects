{
 "cells": [
  {
   "cell_type": "markdown",
   "metadata": {},
   "source": [
    "\n",
    "\n"
   ]
  },
  {
   "cell_type": "code",
   "execution_count": null,
   "metadata": {
    "collapsed": true
   },
   "outputs": [],
   "source": []
  },
  {
   "cell_type": "markdown",
   "metadata": {},
   "source": [
    "Low pass filter acts on a blurring effect on the original image. In contrast to how much the original image is being blurred, it actually applies better on the noises on the image. So in this case, you can apply both low-pass and high-pass filters on the image to decrease its noises and sharpens the image. "
   ]
  },
  {
   "cell_type": "code",
   "execution_count": null,
   "metadata": {},
   "outputs": [],
   "source": [
    "import numpy as np\n",
    "import scipy.io as sc\n",
    "import PIL \n",
    "from PIL import Image\n",
    "import matplotlib\n",
    "from matplotlib import pyplot as plt\n",
    "from scipy.fftpack import dct, idct\n",
    "\n",
    "Img= Image.open('Golden-Gate.png')\n",
    "\n",
    "img_matrix = np.array(Img)\n",
    "tt = dct(dct(img_matrix.T,  norm='ortho').T, norm = 'ortho')\n",
    "\n",
    "tt[40:,40:] = 0\n",
    "low_filter = idct(idct(tt.T,  norm='ortho').T, norm = 'ortho')\n",
    "\n",
    "newimg = img_matrix - low_filter\n",
    "img = Image.fromarray(newimg, 'RGB')\n",
    "plt.imshow(img)\n",
    "plt.show()"
   ]
  }
 ],
 "metadata": {
  "kernelspec": {
   "display_name": "Python 3",
   "language": "python",
   "name": "python3"
  },
  "language_info": {
   "codemirror_mode": {
    "name": "ipython",
    "version": 3
   },
   "file_extension": ".py",
   "mimetype": "text/x-python",
   "name": "python",
   "nbconvert_exporter": "python",
   "pygments_lexer": "ipython3",
   "version": "3.6.3"
  }
 },
 "nbformat": 4,
 "nbformat_minor": 2
}
