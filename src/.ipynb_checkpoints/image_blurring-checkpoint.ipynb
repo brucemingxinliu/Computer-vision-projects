{
 "cells": [
  {
   "cell_type": "markdown",
   "metadata": {},
   "source": [
    "For the first assignment, I'm going to implement a linear filter without any preset functions. A linear filter could achieve a few objectives, such as adding soft blur, sharpening details and removing noise and so on. For the purpose of this assignment, I will be implementing a method to blur the image. "
   ]
  },
  {
   "cell_type": "code",
   "execution_count": 14,
   "metadata": {},
   "outputs": [
    {
     "data": {
      "text/plain": [
       "<matplotlib.image.AxesImage at 0x7f2b21d12e10>"
      ]
     },
     "execution_count": 14,
     "metadata": {},
     "output_type": "execute_result"
    },
    {
     "data": {
      "image/png": "[encoded data removed]",
      "text/plain": [
       "<matplotlib.figure.Figure at 0x7f2b281cb150>"
      ]
     },
     "metadata": {},
     "output_type": "display_data"
    }
   ],
   "source": [
    "import cv2\n",
    "img = cv2.imread('fnc1.png')\n",
    "from matplotlib import pyplot as plt\n",
    "plt.imshow(img)\n"
   ]
  },
  {
   "cell_type": "markdown",
   "metadata": {},
   "source": [
    "Here is the function we calculate the weighted sum of inpit pixel values. The h(k,l) is the filter coefficients, or kernel. Here I set the kernel size as 3x3 matix as that of from the book. Dividing 25, I have a kernel 3x3 filled with 0.4."
   ]
  },
  {
   "cell_type": "code",
   "execution_count": 6,
   "metadata": {},
   "outputs": [
    {
     "name": "stdout",
     "output_type": "stream",
     "text": [
      "[[0.03333334 0.03333334 0.03333334]\n",
      " [0.03333334 0.03333334 0.03333334]\n",
      " [0.03333334 0.03333334 0.03333334]]\n"
     ]
    },
    {
     "data": {
      "text/plain": [
       "(3, 3)"
      ]
     },
     "execution_count": 6,
     "metadata": {},
     "output_type": "execute_result"
    }
   ],
   "source": [
    "import numpy as np\n",
    "kernel = np.ones((3,3),np.float32)/30\n",
    "print kernel\n",
    "np.shape(kernel)\n"
   ]
  },
  {
   "cell_type": "code",
   "execution_count": 11,
   "metadata": {},
   "outputs": [
    {
     "name": "stderr",
     "output_type": "stream",
     "text": [
      "/home/bruce/.virtualenvs/facecourse-py2/lib/python2.7/site-packages/ipykernel_launcher.py:10: DeprecationWarning: `imread` is deprecated!\n",
      "`imread` is deprecated in SciPy 1.0.0, and will be removed in 1.2.0.\n",
      "Use ``imageio.imread`` instead.\n",
      "  # Remove the CWD from sys.path while we load stuff.\n"
     ]
    },
    {
     "data": {
      "text/plain": [
       "(465, 620, 3)"
      ]
     },
     "execution_count": 11,
     "metadata": {},
     "output_type": "execute_result"
    }
   ],
   "source": [
    "import cv2\n",
    "import numpy as np\n",
    "import scipy.misc\n",
    "from matplotlib import pyplot as plt\n",
    "from pylab import*\n",
    "\n",
    "img = cv2.imread('naturo-monkey-selfie.jpg')\n",
    "\n",
    "kernel = np.ones((3,3),np.float32)/25\n",
    "f = scipy.misc.imread('naturo-monkey-selfie.jpg') #f is the matix form of the original image I used for this project\n",
    "\n",
    "#print f #here is the output of the image in numpy arrary\n",
    "len(f)\n",
    "np.shape(f)\n"
   ]
  },
  {
   "cell_type": "code",
   "execution_count": 25,
   "metadata": {},
   "outputs": [
    {
     "name": "stdout",
     "output_type": "stream",
     "text": [
      "output matrix\n",
      "[[0. 1. 1. 1.]\n",
      " [1. 1. 1. 1.]]\n",
      "output matrix\n",
      "[[0.  0.1 1.  1. ]\n",
      " [1.  1.  1.  1. ]]\n",
      "output matrix\n",
      "[[0.  0.1 0.2 1. ]\n",
      " [1.  1.  1.  1. ]]\n",
      "output matrix\n",
      "[[0.  0.1 0.2 0.3]\n",
      " [1.  1.  1.  1. ]]\n",
      "output matrix\n",
      "[[0.  0.1 0.2 0.3]\n",
      " [0.6 1.  1.  1. ]]\n",
      "output matrix\n",
      "[[0.  0.1 0.2 0.3]\n",
      " [0.6 0.7 1.  1. ]]\n",
      "output matrix\n",
      "[[0.  0.1 0.2 0.3]\n",
      " [0.6 0.7 0.8 1. ]]\n",
      "output matrix\n",
      "[[0.  0.1 0.2 0.3]\n",
      " [0.6 0.7 0.8 0.9]]\n"
     ]
    },
    {
     "name": "stderr",
     "output_type": "stream",
     "text": [
      "/home/bruce/.virtualenvs/facecourse-py2/local/lib/python2.7/site-packages/matplotlib/cbook/deprecation.py:106: MatplotlibDeprecationWarning: Adding an axes using the same arguments as a previous axes currently reuses the earlier instance.  In a future version, a new instance will always be created and returned.  Meanwhile, this warning can be suppressed, and the future behavior ensured, by passing a unique label to each axes instance.\n",
      "  warnings.warn(message, mplDeprecation, stacklevel=1)\n"
     ]
    },
    {
     "data": {
      "image/png": "[encoded data removed]",
      "text/plain": [
       "<matplotlib.figure.Figure at 0x7fc634b880d0>"
      ]
     },
     "metadata": {},
     "output_type": "display_data"
    }
   ],
   "source": [
    "import cv2\n",
    "import numpy as np\n",
    "from pylab import*\n",
    "from matplotlib import pyplot as plt\n",
    "\n",
    "matrix = np.arange(24).reshape(4,6)\n",
    "kernel = np.array([0.1, 0.1, 0.1, 0.1, 0.2,0.1,0.1,0.1,0.1]).reshape(3,3)\n",
    "\n",
    "def applyFilter(kernel, matrix):\n",
    "    (row, col ) = np.shape(matrix)\n",
    "    (x,y) = np.shape(kernel)\n",
    "    new_row = row - x + 1\n",
    "    new_col = col - y + 1\n",
    "    res = np.ones((new_row, new_col))\n",
    "    for i in range(0, new_row):\n",
    "        for j in range(0, new_col):\n",
    "            sub_matrix = matrix[i:i+x, j:j+y]\n",
    "            res[i ,j] = filter(sub_matrix, kernel, x, y)\n",
    "            print \"output matrix\"\n",
    "            print res\n",
    "            plt.subplot(122),plt.imshow(res),plt.title('Blurred')\n",
    "plt.xticks([]), plt.yticks([])\n",
    "\n",
    "def filter(sub_matrix, kernel, x, y):\n",
    "    sum = 0\n",
    "    for i in range(0, x):\n",
    "        for j in range(0, y):\n",
    "            sum +=sub_matrix[i, j] * kernel[i, j]\n",
    "            return sum\n",
    "applyFilter(kernel, matrix)\n",
    "\n",
    "plt.subplot(121),plt.imshow(matrix),plt.title('Original')\n",
    "plt.xticks([]), plt.yticks([])\n",
    "\n",
    "plt.show()\n",
    "\n"
   ]
  },
  {
   "cell_type": "markdown",
   "metadata": {},
   "source": [
    "It's not very clear how the image is blurred, but the concept here is very simple. I timed the original matrix with a 3x3 kernel and output with a 4x4 matix that contains all four colours from the original matrix to one. "
   ]
  }
 ],
 "metadata": {
  "kernelspec": {
   "display_name": "Python 2",
   "language": "python",
   "name": "python2"
  },
  "language_info": {
   "codemirror_mode": {
    "name": "ipython",
    "version": 2
   },
   "file_extension": ".py",
   "mimetype": "text/x-python",
   "name": "python",
   "nbconvert_exporter": "python",
   "pygments_lexer": "ipython2",
   "version": "2.7.12"
  }
 },
 "nbformat": 4,
 "nbformat_minor": 2
}
